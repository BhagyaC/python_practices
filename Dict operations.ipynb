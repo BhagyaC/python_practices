{
 "cells": [
  {
   "cell_type": "markdown",
   "metadata": {},
   "source": [
    "# First Name and Last Name extraction using python and spacy"
   ]
  },
  {
   "cell_type": "markdown",
   "metadata": {},
   "source": [
    "## Problem statement : First name and last name extraction from a text"
   ]
  },
  {
   "cell_type": "markdown",
   "metadata": {},
   "source": [
    "Text is an unstructured data and the aim is to extract the first name and last name from the text. \n",
    "The spacy library provides the extraction of Named entitied like ORG,PERSON etc but for local name this won't work\n",
    "The another method is to consider the text as token and find the POS and tag along with the Dependency grammer concepts"
   ]
  },
  {
   "cell_type": "code",
   "execution_count": 3,
   "metadata": {},
   "outputs": [],
   "source": [
    "text = \" This is an unstructured data created by Bhagya C and this is great if it is evaluated by Alisha Vineeth\""
   ]
  },
  {
   "cell_type": "markdown",
   "metadata": {},
   "source": [
    "Consider this text and the main aim is to extract the two names *Bhagya C* and *Alisha Vineeth* from the text"
   ]
  },
  {
   "cell_type": "code",
   "execution_count": 1,
   "metadata": {},
   "outputs": [
    {
     "ename": "OSError",
     "evalue": "[E050] Can't find model 'en_core_web_sm'. It doesn't seem to be a shortcut link, a Python package or a valid path to a data directory.",
     "output_type": "error",
     "traceback": [
      "\u001b[0;31m---------------------------------------------------------------------------\u001b[0m",
      "\u001b[0;31mOSError\u001b[0m                                   Traceback (most recent call last)",
      "\u001b[0;32m<ipython-input-1-14d257ed08ca>\u001b[0m in \u001b[0;36m<module>\u001b[0;34m\u001b[0m\n\u001b[1;32m      1\u001b[0m \u001b[0;32mimport\u001b[0m \u001b[0mspacy\u001b[0m\u001b[0;34m\u001b[0m\u001b[0;34m\u001b[0m\u001b[0m\n\u001b[0;32m----> 2\u001b[0;31m \u001b[0mnlp\u001b[0m \u001b[0;34m=\u001b[0m \u001b[0mspacy\u001b[0m\u001b[0;34m.\u001b[0m\u001b[0mload\u001b[0m\u001b[0;34m(\u001b[0m\u001b[0;34m\"en_core_web_sm\"\u001b[0m\u001b[0;34m)\u001b[0m\u001b[0;34m\u001b[0m\u001b[0;34m\u001b[0m\u001b[0m\n\u001b[0m",
      "\u001b[0;32m/usr/local/lib/python3.7/site-packages/spacy/__init__.py\u001b[0m in \u001b[0;36mload\u001b[0;34m(name, **overrides)\u001b[0m\n\u001b[1;32m     25\u001b[0m     \u001b[0;32mif\u001b[0m \u001b[0mdepr_path\u001b[0m \u001b[0;32mnot\u001b[0m \u001b[0;32min\u001b[0m \u001b[0;34m(\u001b[0m\u001b[0;32mTrue\u001b[0m\u001b[0;34m,\u001b[0m \u001b[0;32mFalse\u001b[0m\u001b[0;34m,\u001b[0m \u001b[0;32mNone\u001b[0m\u001b[0;34m)\u001b[0m\u001b[0;34m:\u001b[0m\u001b[0;34m\u001b[0m\u001b[0;34m\u001b[0m\u001b[0m\n\u001b[1;32m     26\u001b[0m         \u001b[0mdeprecation_warning\u001b[0m\u001b[0;34m(\u001b[0m\u001b[0mWarnings\u001b[0m\u001b[0;34m.\u001b[0m\u001b[0mW001\u001b[0m\u001b[0;34m.\u001b[0m\u001b[0mformat\u001b[0m\u001b[0;34m(\u001b[0m\u001b[0mpath\u001b[0m\u001b[0;34m=\u001b[0m\u001b[0mdepr_path\u001b[0m\u001b[0;34m)\u001b[0m\u001b[0;34m)\u001b[0m\u001b[0;34m\u001b[0m\u001b[0;34m\u001b[0m\u001b[0m\n\u001b[0;32m---> 27\u001b[0;31m     \u001b[0;32mreturn\u001b[0m \u001b[0mutil\u001b[0m\u001b[0;34m.\u001b[0m\u001b[0mload_model\u001b[0m\u001b[0;34m(\u001b[0m\u001b[0mname\u001b[0m\u001b[0;34m,\u001b[0m \u001b[0;34m**\u001b[0m\u001b[0moverrides\u001b[0m\u001b[0;34m)\u001b[0m\u001b[0;34m\u001b[0m\u001b[0;34m\u001b[0m\u001b[0m\n\u001b[0m\u001b[1;32m     28\u001b[0m \u001b[0;34m\u001b[0m\u001b[0m\n\u001b[1;32m     29\u001b[0m \u001b[0;34m\u001b[0m\u001b[0m\n",
      "\u001b[0;32m/usr/local/lib/python3.7/site-packages/spacy/util.py\u001b[0m in \u001b[0;36mload_model\u001b[0;34m(name, **overrides)\u001b[0m\n\u001b[1;32m    134\u001b[0m     \u001b[0;32melif\u001b[0m \u001b[0mhasattr\u001b[0m\u001b[0;34m(\u001b[0m\u001b[0mname\u001b[0m\u001b[0;34m,\u001b[0m \u001b[0;34m\"exists\"\u001b[0m\u001b[0;34m)\u001b[0m\u001b[0;34m:\u001b[0m  \u001b[0;31m# Path or Path-like to model data\u001b[0m\u001b[0;34m\u001b[0m\u001b[0;34m\u001b[0m\u001b[0m\n\u001b[1;32m    135\u001b[0m         \u001b[0;32mreturn\u001b[0m \u001b[0mload_model_from_path\u001b[0m\u001b[0;34m(\u001b[0m\u001b[0mname\u001b[0m\u001b[0;34m,\u001b[0m \u001b[0;34m**\u001b[0m\u001b[0moverrides\u001b[0m\u001b[0;34m)\u001b[0m\u001b[0;34m\u001b[0m\u001b[0;34m\u001b[0m\u001b[0m\n\u001b[0;32m--> 136\u001b[0;31m     \u001b[0;32mraise\u001b[0m \u001b[0mIOError\u001b[0m\u001b[0;34m(\u001b[0m\u001b[0mErrors\u001b[0m\u001b[0;34m.\u001b[0m\u001b[0mE050\u001b[0m\u001b[0;34m.\u001b[0m\u001b[0mformat\u001b[0m\u001b[0;34m(\u001b[0m\u001b[0mname\u001b[0m\u001b[0;34m=\u001b[0m\u001b[0mname\u001b[0m\u001b[0;34m)\u001b[0m\u001b[0;34m)\u001b[0m\u001b[0;34m\u001b[0m\u001b[0;34m\u001b[0m\u001b[0m\n\u001b[0m\u001b[1;32m    137\u001b[0m \u001b[0;34m\u001b[0m\u001b[0m\n\u001b[1;32m    138\u001b[0m \u001b[0;34m\u001b[0m\u001b[0m\n",
      "\u001b[0;31mOSError\u001b[0m: [E050] Can't find model 'en_core_web_sm'. It doesn't seem to be a shortcut link, a Python package or a valid path to a data directory."
     ]
    }
   ],
   "source": [
    "import spacy\n",
    "nlp = spacy.load(\"en_core_web_sm\")"
   ]
  },
  {
   "cell_type": "code",
   "execution_count": 1,
   "metadata": {},
   "outputs": [
    {
     "name": "stdout",
     "output_type": "stream",
     "text": [
      "Package            Version  \n",
      "------------------ ---------\n",
      "agefromname        0.0.8    \n",
      "appnope            0.1.0    \n",
      "astroid            2.2.5    \n",
      "attrs              19.1.0   \n",
      "autopep8           1.4.4    \n",
      "backcall           0.1.0    \n",
      "beautifulsoup4     4.7.1    \n",
      "bleach             3.1.0    \n",
      "blis               0.2.4    \n",
      "certifi            2019.6.16\n",
      "chardet            3.0.4    \n",
      "cycler             0.10.0   \n",
      "cymem              2.0.2    \n",
      "decorator          4.4.0    \n",
      "defusedxml         0.6.0    \n",
      "docopt             0.6.2    \n",
      "entrypoints        0.3      \n",
      "flake8             3.7.8    \n",
      "idna               2.8      \n",
      "ipykernel          5.1.1    \n",
      "ipython            7.6.0    \n",
      "ipython-genutils   0.2.0    \n",
      "ipywidgets         7.4.2    \n",
      "isort              4.3.18   \n",
      "jedi               0.14.0   \n",
      "Jinja2             2.10.1   \n",
      "joblib             0.13.2   \n",
      "jsonschema         3.0.1    \n",
      "jupyter            1.0.0    \n",
      "jupyter-client     5.2.4    \n",
      "jupyter-console    6.0.0    \n",
      "jupyter-core       4.5.0    \n",
      "kiwisolver         1.1.0    \n",
      "lazy-object-proxy  1.4.0    \n",
      "MarkupSafe         1.1.1    \n",
      "matplotlib         3.1.1    \n",
      "mccabe             0.6.1    \n",
      "mistune            0.8.4    \n",
      "mock               3.0.5    \n",
      "murmurhash         1.0.2    \n",
      "nbconvert          5.5.0    \n",
      "nbformat           4.4.0    \n",
      "nltk               3.4.5    \n",
      "nose               1.3.7    \n",
      "notebook           5.7.8    \n",
      "numpy              1.16.4   \n",
      "pandas             0.24.2   \n",
      "pandocfilters      1.4.2    \n",
      "parso              0.5.0    \n",
      "patsy              0.5.1    \n",
      "pbr                5.2.0    \n",
      "pexpect            4.7.0    \n",
      "pickleshare        0.7.5    \n",
      "pip                19.1.1   \n",
      "plac               0.9.6    \n",
      "preshed            2.0.1    \n",
      "prometheus-client  0.7.1    \n",
      "prompt-toolkit     2.0.9    \n",
      "ptyprocess         0.6.0    \n",
      "pycodestyle        2.5.0    \n",
      "pyflakes           2.1.1    \n",
      "Pygments           2.4.2    \n",
      "pylint             2.3.1    \n",
      "pyparsing          2.4.2    \n",
      "pyrsistent         0.15.2   \n",
      "python-dateutil    2.8.0    \n",
      "pythonanywhere     0.8.1    \n",
      "pytz               2019.1   \n",
      "pyzmq              18.0.2   \n",
      "qtconsole          4.5.1    \n",
      "requests           2.22.0   \n",
      "scattertext        0.0.2.52 \n",
      "scikit-learn       0.21.2   \n",
      "scipy              1.3.0    \n",
      "seaborn            0.9.0    \n",
      "Send2Trash         1.5.0    \n",
      "setuptools         41.0.1   \n",
      "six                1.12.0   \n",
      "soupsieve          1.9.1    \n",
      "spacy              2.1.4    \n",
      "srsly              0.0.7    \n",
      "statsmodels        0.9.0    \n",
      "stevedore          1.30.1   \n",
      "terminado          0.8.2    \n",
      "testpath           0.4.2    \n",
      "thinc              7.0.4    \n",
      "tornado            6.0.3    \n",
      "tqdm               4.32.2   \n",
      "traitlets          4.3.2    \n",
      "typed-ast          1.3.5    \n",
      "urllib3            1.25.3   \n",
      "virtualenv         16.5.0   \n",
      "virtualenv-clone   0.5.3    \n",
      "virtualenvwrapper  4.8.4    \n",
      "wasabi             0.2.2    \n",
      "wcwidth            0.1.7    \n",
      "webencodings       0.5.1    \n",
      "wheel              0.33.4   \n",
      "widgetsnbextension 3.4.2    \n",
      "wrapt              1.11.1   \n",
      "xlrd               1.2.0    \n",
      "Note: you may need to restart the kernel to use updated packages.\n"
     ]
    }
   ],
   "source": [
    "pip list"
   ]
  },
  {
   "cell_type": "code",
   "execution_count": null,
   "metadata": {},
   "outputs": [],
   "source": []
  }
 ],
 "metadata": {
  "kernelspec": {
   "display_name": "Python 3",
   "language": "python",
   "name": "python3"
  },
  "language_info": {
   "codemirror_mode": {
    "name": "ipython",
    "version": 3
   },
   "file_extension": ".py",
   "mimetype": "text/x-python",
   "name": "python",
   "nbconvert_exporter": "python",
   "pygments_lexer": "ipython3",
   "version": "3.7.4"
  }
 },
 "nbformat": 4,
 "nbformat_minor": 2
}
