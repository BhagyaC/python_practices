{
 "cells": [
  {
   "cell_type": "markdown",
   "metadata": {},
   "source": [
    "# First Name and Last Name extraction using python and spacy\n",
    "# First Name and Last Name extraction using python and spacy\n",
    "## Problem statement : First name and last name extraction from a text\n",
    "concepts\n",
    "Text is an unstructured data and the aim is to extract the first name and last name from the text. \n",
    "The spacy library provides the extraction of Named entitied like ORG,PERSON etc but for local name this won't work\n",
    "The another method is to consider the text as token and find the POS and tag along with the Dependency grammer concepts\n",
    "This\n",
    "text = \" This is an unstructured data created by Bhagya C and this is great if it is evaluated by Alisha Vineeth\"\n",
    "Consider this text and the main aim is to extract the two names *Bhagya C* and *Alisha Vineeth* from the text\n"
   ]
  },
  {
   "cell_type": "code",
   "execution_count": 2,
   "metadata": {},
   "outputs": [],
   "source": [
    "import spacy\n",
    "nlp = spacy.load(\"en_core_web_sm\")"
   ]
  },
  {
   "cell_type": "code",
   "execution_count": 4,
   "metadata": {},
   "outputs": [],
   "source": [
    " text = \" This is an unstructured data created by Bhagya C and this is great if it is evaluated by Alisha Vineeth\" "
   ]
  },
  {
   "cell_type": "code",
   "execution_count": 5,
   "metadata": {},
   "outputs": [],
   "source": [
    "doc = nlp(text)"
   ]
  },
  {
   "cell_type": "code",
   "execution_count": 6,
   "metadata": {},
   "outputs": [
    {
     "name": "stdout",
     "output_type": "stream",
     "text": [
      "  SPACE \n",
      "This DET nsubj\n",
      "is VERB ROOT\n",
      "an DET det\n",
      "unstructured ADJ amod\n",
      "data NOUN attr\n",
      "created VERB acl\n",
      "by ADP agent\n",
      "Bhagya PROPN compound\n",
      "C PROPN pobj\n",
      "and CCONJ cc\n",
      "this DET nsubj\n",
      "is VERB conj\n",
      "great ADJ acomp\n",
      "if ADP mark\n",
      "it PRON nsubjpass\n",
      "is VERB auxpass\n",
      "evaluated VERB advcl\n",
      "by ADP agent\n",
      "Alisha PROPN compound\n",
      "Vineeth PROPN pobj\n"
     ]
    }
   ],
   "source": [
    "for token in doc:\n",
    "    print(token.text, token.pos_, token.dep_)"
   ]
  },
  {
   "cell_type": "code",
   "execution_count": 10,
   "metadata": {},
   "outputs": [],
   "source": [
    "def get_name_and_confidence_level(text):\n",
    "    if type(text) != str:\n",
    "        text = str(text)\n",
    "\n",
    "    answer_doc = nlp(text)\n",
    "\n",
    "    proper_nouns = []\n",
    "    common_nouns = []\n",
    "    adjectives = []\n",
    "    adverbs = []\n",
    "    references = []\n",
    "    for token in answer_doc:\n",
    "        print(token.text, token.lemma_, token.pos_, token.tag_, token.dep_,token.shape_, token.is_alpha, token.is_stop)\n",
    "    for num, token in enumerate(answer_doc):\n",
    "        if token.is_stop is False:\n",
    "            if token.tag_ in [\"NNP\", \"NNPS\"]:\n",
    "                    proper_nouns.append(token.text)\n",
    "\n",
    "            elif token.tag_ in [\"NN\", \"NNS\"] :\n",
    "                    common_nouns.append(token.text)\n",
    "\n",
    "            elif token.tag_ in [\"JJ\"]:\n",
    "                    adjectives.append(token.text)\n",
    "\n",
    "            elif token.tag_ in [\"RB\"]:\n",
    "                    adjectives.append(token.text)\n",
    "\n",
    "        references.append(token.tag_)\n",
    "\n",
    "    if proper_nouns:\n",
    "        confidence_level = 3\n",
    "        first_name = \" \".join(proper_nouns)\n",
    "    elif common_nouns:\n",
    "        confidence_level = 3\n",
    "        first_name = \" \".join(common_nouns)\n",
    "    elif adjectives:\n",
    "        confidence_level = 2\n",
    "        first_name = \" \".join(adjectives)\n",
    "    elif adverbs:\n",
    "        confidence_level = 1\n",
    "        first_name = \" \".join(adverbs)\n",
    "    else:\n",
    "        confidence_level = 0\n",
    "        first_name = text\n",
    "    return first_name"
   ]
  },
  {
   "cell_type": "code",
   "execution_count": 11,
   "metadata": {},
   "outputs": [
    {
     "name": "stdout",
     "output_type": "stream",
     "text": [
      "    SPACE _SP    False False\n",
      "This this DET DT nsubj Xxxx True True\n",
      "is be VERB VBZ ROOT xx True True\n",
      "an an DET DT det xx True True\n",
      "unstructured unstructured ADJ JJ amod xxxx True False\n",
      "data datum NOUN NNS attr xxxx True False\n",
      "created create VERB VBN acl xxxx True False\n",
      "by by ADP IN agent xx True True\n",
      "Bhagya Bhagya PROPN NNP compound Xxxxx True False\n",
      "C C PROPN NNP pobj X True False\n",
      "and and CCONJ CC cc xxx True True\n",
      "this this DET DT nsubj xxxx True True\n",
      "is be VERB VBZ conj xx True True\n",
      "great great ADJ JJ acomp xxxx True False\n",
      "if if ADP IN mark xx True True\n",
      "it -PRON- PRON PRP nsubjpass xx True True\n",
      "is be VERB VBZ auxpass xx True True\n",
      "evaluated evaluate VERB VBN advcl xxxx True False\n",
      "by by ADP IN agent xx True True\n",
      "Alisha Alisha PROPN NNP compound Xxxxx True False\n",
      "Vineeth Vineeth PROPN NNP pobj Xxxxx True False\n"
     ]
    }
   ],
   "source": [
    "result = get_name_and_confidence_level(text)"
   ]
  },
  {
   "cell_type": "code",
   "execution_count": 12,
   "metadata": {},
   "outputs": [
    {
     "data": {
      "text/plain": [
       "'Bhagya C Alisha Vineeth'"
      ]
     },
     "execution_count": 12,
     "metadata": {},
     "output_type": "execute_result"
    }
   ],
   "source": [
    "result"
   ]
  },
  {
   "cell_type": "code",
   "execution_count": null,
   "metadata": {},
   "outputs": [],
   "source": []
  }
 ],
 "metadata": {
  "kernelspec": {
   "display_name": "Python 3",
   "language": "python",
   "name": "python3"
  },
  "language_info": {
   "codemirror_mode": {
    "name": "ipython",
    "version": 3
   },
   "file_extension": ".py",
   "mimetype": "text/x-python",
   "name": "python",
   "nbconvert_exporter": "python",
   "pygments_lexer": "ipython3",
   "version": "3.7.4"
  }
 },
 "nbformat": 4,
 "nbformat_minor": 2
}
